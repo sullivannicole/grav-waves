{
 "cells": [
  {
   "cell_type": "markdown",
   "metadata": {
    "application/vnd.databricks.v1+cell": {
     "cellMetadata": {},
     "inputWidgets": {},
     "nuid": "e03dc50e-345a-4305-8b19-ca251a42f521",
     "showTitle": false,
     "title": ""
    },
    "id": "asO2h_TyP4tE"
   },
   "source": [
    "# 0. Imports & set-up"
   ]
  },
  {
   "cell_type": "code",
   "execution_count": 0,
   "metadata": {
    "application/vnd.databricks.v1+cell": {
     "cellMetadata": {},
     "inputWidgets": {},
     "nuid": "0cc47fce-8f79-43cb-a848-81eef092331e",
     "showTitle": false,
     "title": ""
    },
    "id": "VtgJXewmsIL6"
   },
   "outputs": [],
   "source": [
    "from google.cloud import bigquery\n",
    "from google.oauth2 import service_account\n",
    "from google.colab import syntax\n",
    "\n",
    "!pip install sequitur\n",
    "import torch\n",
    "from sequitur.models import LINEAR_AE\n",
    "from sequitur import quick_train\n",
    "\n",
    "!pip install torchinfo\n",
    "from torchinfo import summary\n",
    "\n",
    "# Mount drive - needed for GBQ creds\n",
    "from google.colab import drive\n",
    "drive.mount('/content/drive')\n",
    "\n",
    "root_path = '/content/drive/MyDrive/GitHub'\n",
    "\n",
    "credentials = service_account.Credentials.from_service_account_file(\n",
    "    f'{root_path}/grav-waves/grav-waves-358320-34ebfeae2689.json', scopes=[\"https://www.googleapis.com/auth/cloud-platform\"],\n",
    ")\n",
    "\n",
    "client = bigquery.Client(credentials=credentials, project=credentials.project_id,)\n",
    "\n",
    "# Authenticate\n",
    "from google.colab import auth\n",
    "auth.authenticate_user()\n",
    "print('Authenticated')"
   ]
  },
  {
   "cell_type": "code",
   "execution_count": 0,
   "metadata": {
    "application/vnd.databricks.v1+cell": {
     "cellMetadata": {},
     "inputWidgets": {},
     "nuid": "fe0c9ed5-e33c-434f-aefd-358f19571769",
     "showTitle": false,
     "title": ""
    },
    "id": "OTUQslA6j_DA"
   },
   "outputs": [],
   "source": [
    "# R-setup (for visualization)\n",
    "# Problems with newer versions, still not fixed: https://stackoverflow.com/questions/74283327/conversion-py2rpy-not-defined-for-objects-of-type-class-str\n",
    "!pip install rpy2==3.5.1 \n",
    "%load_ext rpy2.ipython"
   ]
  },
  {
   "cell_type": "code",
   "execution_count": 0,
   "metadata": {
    "application/vnd.databricks.v1+cell": {
     "cellMetadata": {},
     "inputWidgets": {},
     "nuid": "9ee3b7a1-7a01-490d-9c02-ea68d6329c89",
     "showTitle": false,
     "title": ""
    },
    "id": "ut8yPKxakSXq"
   },
   "outputs": [],
   "source": [
    "%%R\n",
    "\n",
    "install.packages(\"tidyverse\")\n",
    "library(tidyverse)"
   ]
  },
  {
   "cell_type": "code",
   "execution_count": 0,
   "metadata": {
    "application/vnd.databricks.v1+cell": {
     "cellMetadata": {},
     "inputWidgets": {},
     "nuid": "a1c41a32-a58f-441b-8782-5b1b57ac471c",
     "showTitle": false,
     "title": ""
    },
    "id": "EhAo6S9qnZtk"
   },
   "outputs": [],
   "source": [
    "%%R \n",
    "\n",
    "# Packages\n",
    "install.packages(\"sysfonts\")\n",
    "install.packages(\"extrafont\")\n",
    "install.packages(\"showtext\")\n",
    "install.packages(\"bigrquery\")\n",
    "library(sysfonts)\n",
    "library(extrafont)\n",
    "library(showtext)\n",
    "library(bigrquery)\n",
    "# library(tidyverse)\n",
    "library(glue)\n",
    "\n",
    "# Fonts\n",
    "# font_add_google(\"Didact Gothic\", \"dg\")\n",
    "font_add_google(\"IBM Plex Sans\", \"ibm\")\n",
    "\n",
    "showtext_auto()\n",
    "font_fam = \"ibm\"\n",
    "\n",
    "# Aesthetics\n",
    "purple_light <- \"#d8d5f7\"\n",
    "purple <- \"#9992DA\" \n",
    "purple_dark <- \"#706BA4\"\n",
    "grey_dark <- \"#585959\"\n",
    "\n",
    "theme_light_beige <- theme(plot.background = element_rect(fill = \"#F0F1EA\", color = \"transparent\"),\n",
    "      panel.background = element_rect(fill = \"#F0F1EA\", color = \"transparent\"),\n",
    "      plot.margin = margin(t = \"1.5\", r = \"1.5\", b = \"1.5\", l = \"1.5\", unit = \"in\"),\n",
    "      plot.caption = element_text(size = 12, color = \"#343A41\", family = font_fam),\n",
    "      panel.grid = element_blank(),\n",
    "      plot.title = element_text(size = 40, color = \"#343A41\", family = font_fam, face = \"bold\"),\n",
    "      axis.text = element_text(size = 15, color = \"#343A41\", family = font_fam),\n",
    "      axis.title = element_text(size = 19, color = \"#343A41\", family = font_fam),\n",
    "      axis.ticks = element_blank(),\n",
    "      legend.background = element_blank(),\n",
    "      legend.position = \"bottom\",\n",
    "      legend.title = element_text(color = \"#343A41\", family = font_fam),\n",
    "      legend.text = element_text(color = \"#343A41\", family = font_fam),\n",
    "      strip.background = element_rect(fill = \"#343A41\"),\n",
    "      strip.text = element_text(color = \"white\", family = font_fam, face = \"bold\", size = 13))\n",
    "\n",
    "\n",
    "theme_tech <- theme(panel.background = element_rect(fill = purple_light, color = purple_light),\n",
    "        panel.grid = element_line(color = purple_light),\n",
    "        strip.background = element_rect(fill = purple_dark),\n",
    "        strip.text = element_text(color = \"white\", size = 15, face = \"bold\"),\n",
    "        axis.ticks = element_blank(),\n",
    "        axis.title = element_text(face = \"bold\", size = 19, color = grey_dark),\n",
    "        axis.text.y = element_text(size = 15, color = grey_dark),\n",
    "        # axis.text.y = element_blank(),\n",
    "        axis.text.x = element_text(size = 15, color = grey_dark, face = 'bold'),\n",
    "        plot.title = element_text(size = 40, color = \"#343A41\", family = font_fam, face = \"bold\"),\n",
    "        legend.position = \"bottom\",\n",
    "        legend.text = element_text(size = 15, color = grey_dark))\n",
    "     "
   ]
  },
  {
   "cell_type": "code",
   "execution_count": 0,
   "metadata": {
    "application/vnd.databricks.v1+cell": {
     "cellMetadata": {},
     "inputWidgets": {},
     "nuid": "6cf189fd-6a70-4770-835b-c43dc6a86b6c",
     "showTitle": false,
     "title": ""
    },
    "id": "yQMDnYniDJDN"
   },
   "outputs": [],
   "source": [
    "# https://stackoverflow.com/questions/65876808/feeding-classifier-data-from-lstm-autoencoder\n",
    "# https://curiousily.com/posts/time-series-anomaly-detection-using-lstm-autoencoder-with-pytorch-in-python/"
   ]
  },
  {
   "cell_type": "markdown",
   "metadata": {
    "application/vnd.databricks.v1+cell": {
     "cellMetadata": {},
     "inputWidgets": {},
     "nuid": "2d374df8-f1b9-40fa-97f3-e8452fc7dd55",
     "showTitle": false,
     "title": ""
    },
    "id": "okT62WxiP9t6"
   },
   "source": [
    "# 1. Train the autoencoder"
   ]
  },
  {
   "cell_type": "code",
   "execution_count": 0,
   "metadata": {
    "application/vnd.databricks.v1+cell": {
     "cellMetadata": {},
     "inputWidgets": {},
     "nuid": "82869360-2fde-4d31-adc0-041c796adc1f",
     "showTitle": false,
     "title": ""
    },
    "executionInfo": {
     "elapsed": 2454,
     "status": "ok",
     "timestamp": 1682511349649,
     "user": {
      "displayName": "Nicole Sullivan",
      "userId": "18031182080523530747"
     },
     "user_tz": 300
    },
    "id": "s7G2IUd5eFgL"
   },
   "outputs": [],
   "source": [
    "# Another way to pull in data; I prefer to use a SQL code chunk\n",
    "waves_q = syntax.sql('''SELECT *\n",
    "FROM mergers.bbh_waveforms\n",
    "WHERE event IN ('GW150914', 'GW170104', 'GW190412')\n",
    "AND interferometer = 'L1';''')\n",
    "\n",
    "gw_sm = client.query(waves_q).to_dataframe()\n",
    "\n",
    "\n",
    "train_seqs = []\n",
    "test_seqs = []\n",
    "\n",
    "for i in ['GW150914', 'GW170104']:\n",
    "\n",
    "  event_pd = gw_sm.query(f'event == \"{i}\"')\n",
    "  event_vals = event_pd['raw_value'].values[:1300]\n",
    "  event_tensor = torch.from_numpy(event_vals).float()\n",
    "\n",
    "  if i in ['GW150914', 'GW170104']:\n",
    "    train_seqs.append(event_tensor)\n",
    "\n",
    "  else:\n",
    "    test_seqs.append(event_tensor)"
   ]
  },
  {
   "cell_type": "code",
   "execution_count": 0,
   "metadata": {
    "application/vnd.databricks.v1+cell": {
     "cellMetadata": {},
     "inputWidgets": {},
     "nuid": "e0b821e5-0b32-4a5f-a48d-13c515353699",
     "showTitle": false,
     "title": ""
    },
    "colab": {
     "base_uri": "https://localhost:8080/"
    },
    "executionInfo": {
     "elapsed": 1335,
     "status": "ok",
     "timestamp": 1682512137411,
     "user": {
      "displayName": "Nicole Sullivan",
      "userId": "18031182080523530747"
     },
     "user_tz": 300
    },
    "id": "mUr7NlqChSgw",
    "outputId": "28f8ca0c-dc10-4dc8-8929-16a8a4267138"
   },
   "outputs": [],
   "source": [
    "# Length of examples must be a multiple of encoding_dim (size of z)\n",
    "encoder, decoder, encodings, losses = quick_train(LINEAR_AE, train_seqs, encoding_dim = 500, denoise = True, verbose = False)\n",
    "\n",
    "# z_s = []\n",
    "# x_primes = []\n",
    "\n",
    "for i in test_seqs:\n",
    "  z = encoder(i) # Pass through new observation\n",
    "  x_prime = decoder(z)\n",
    "\n",
    "  # print(f'z is {z}')\n",
    "  # print(f'x prime is {x_prime}')"
   ]
  },
  {
   "cell_type": "markdown",
   "metadata": {
    "application/vnd.databricks.v1+cell": {
     "cellMetadata": {},
     "inputWidgets": {},
     "nuid": "c04c6734-eab2-427d-8db5-74e654b8ad16",
     "showTitle": false,
     "title": ""
    },
    "id": "S9U9n_-yQr7M"
   },
   "source": [
    "# 2. Model summary"
   ]
  },
  {
   "cell_type": "code",
   "execution_count": 0,
   "metadata": {
    "application/vnd.databricks.v1+cell": {
     "cellMetadata": {},
     "inputWidgets": {},
     "nuid": "6e236cc7-2213-4db9-ab6e-62312e7edbe3",
     "showTitle": false,
     "title": ""
    },
    "colab": {
     "base_uri": "https://localhost:8080/"
    },
    "executionInfo": {
     "elapsed": 120,
     "status": "ok",
     "timestamp": 1682512258460,
     "user": {
      "displayName": "Nicole Sullivan",
      "userId": "18031182080523530747"
     },
     "user_tz": 300
    },
    "id": "ckiRsSgmWMEJ",
    "outputId": "806d2b32-8bd9-48e2-a2cd-cdbab2fe7b9e"
   },
   "outputs": [],
   "source": [
    "summary(encoder) # = Length of 1 example x bottleneck"
   ]
  },
  {
   "cell_type": "code",
   "execution_count": 0,
   "metadata": {
    "application/vnd.databricks.v1+cell": {
     "cellMetadata": {},
     "inputWidgets": {},
     "nuid": "420f831e-57c7-46f4-b53e-29d4473c9efe",
     "showTitle": false,
     "title": ""
    },
    "colab": {
     "base_uri": "https://localhost:8080/"
    },
    "executionInfo": {
     "elapsed": 564,
     "status": "ok",
     "timestamp": 1682512591935,
     "user": {
      "displayName": "Nicole Sullivan",
      "userId": "18031182080523530747"
     },
     "user_tz": 300
    },
    "id": "JiO2g2S_WUpr",
    "outputId": "59cfdd15-3b32-43cb-d4e3-0c812dcc7893"
   },
   "outputs": [],
   "source": [
    "summary(decoder) # = Length of 1 example x bottleneck + output example"
   ]
  },
  {
   "cell_type": "markdown",
   "metadata": {
    "application/vnd.databricks.v1+cell": {
     "cellMetadata": {},
     "inputWidgets": {},
     "nuid": "cfb4905f-dd17-4735-951c-d97007a25fe2",
     "showTitle": false,
     "title": ""
    },
    "id": "t_tlzbnUlH9d"
   },
   "source": [
    "# 3. Evaluate model performance"
   ]
  },
  {
   "cell_type": "code",
   "execution_count": 0,
   "metadata": {
    "application/vnd.databricks.v1+cell": {
     "cellMetadata": {},
     "inputWidgets": {},
     "nuid": "f923f610-5acf-47e9-ae17-b46b8b611bd8",
     "showTitle": false,
     "title": ""
    },
    "executionInfo": {
     "elapsed": 136,
     "status": "ok",
     "timestamp": 1682512605101,
     "user": {
      "displayName": "Nicole Sullivan",
      "userId": "18031182080523530747"
     },
     "user_tz": 300
    },
    "id": "YxhBWl-4OkQw"
   },
   "outputs": [],
   "source": [
    "x_prime_np = x_prime.detach().cpu().numpy()\n",
    "z_np = z.detach().cpu().numpy()\n",
    "x_orig = test_seqs[0].numpy()"
   ]
  },
  {
   "cell_type": "code",
   "execution_count": 0,
   "metadata": {
    "application/vnd.databricks.v1+cell": {
     "cellMetadata": {},
     "inputWidgets": {},
     "nuid": "3acbc9f7-e8e6-43d3-baab-e0dff70bb720",
     "showTitle": false,
     "title": ""
    },
    "colab": {
     "base_uri": "https://localhost:8080/"
    },
    "executionInfo": {
     "elapsed": 4,
     "status": "ok",
     "timestamp": 1682513053772,
     "user": {
      "displayName": "Nicole Sullivan",
      "userId": "18031182080523530747"
     },
     "user_tz": 300
    },
    "id": "QQ2LnW0Xl7XL",
    "outputId": "85c58ccd-4b53-4ab9-da55-d4d0d3a2b9aa"
   },
   "outputs": [],
   "source": [
    "len(z_np)"
   ]
  },
  {
   "cell_type": "code",
   "execution_count": 0,
   "metadata": {
    "application/vnd.databricks.v1+cell": {
     "cellMetadata": {},
     "inputWidgets": {},
     "nuid": "c18be9c0-0d70-43b8-a78a-1101d362db97",
     "showTitle": false,
     "title": ""
    },
    "colab": {
     "base_uri": "https://localhost:8080/",
     "height": 617
    },
    "executionInfo": {
     "elapsed": 816,
     "status": "ok",
     "timestamp": 1682513695431,
     "user": {
      "displayName": "Nicole Sullivan",
      "userId": "18031182080523530747"
     },
     "user_tz": 300
    },
    "id": "j0S4nt7uQRRu",
    "outputId": "730f0b6f-bdc7-4590-e5c4-8d1bfcbbd569"
   },
   "outputs": [],
   "source": [
    "%%R -i z_np -h 600 -w 1000\n",
    "\n",
    "data.frame(z = z_np,\n",
    "           time = seq(1, length(z_np))) %>%\n",
    "ggplot(aes(time, z)) +\n",
    "geom_line(color = purple_dark) +\n",
    "ylim(-2, 2) +\n",
    "labs(title = 'Z (bottleneck vector)',\n",
    "    x = 'sequence') +\n",
    "theme_tech"
   ]
  },
  {
   "cell_type": "code",
   "execution_count": 0,
   "metadata": {
    "application/vnd.databricks.v1+cell": {
     "cellMetadata": {},
     "inputWidgets": {},
     "nuid": "5c3a81b6-6fa9-4388-8955-db87dbf583d5",
     "showTitle": false,
     "title": ""
    },
    "colab": {
     "base_uri": "https://localhost:8080/",
     "height": 817
    },
    "executionInfo": {
     "elapsed": 339,
     "status": "ok",
     "timestamp": 1682514780387,
     "user": {
      "displayName": "Nicole Sullivan",
      "userId": "18031182080523530747"
     },
     "user_tz": 300
    },
    "id": "AaodHpEcnOX5",
    "outputId": "9df3c9e1-de21-47e4-d843-611a5418c57d"
   },
   "outputs": [],
   "source": [
    "%%R -i losses -h 800 -w 1200\n",
    "\n",
    "ggplot() +\n",
    "aes(seq(1, length(losses)), losses) +\n",
    "geom_line(color = purple_dark, size = 1.7) +\n",
    "labs(x = 'Training epochs',\n",
    "     y = \"Loss\",\n",
    "     title = 'Loss over training epochs') +\n",
    "theme_tech"
   ]
  },
  {
   "cell_type": "code",
   "execution_count": 0,
   "metadata": {
    "application/vnd.databricks.v1+cell": {
     "cellMetadata": {},
     "inputWidgets": {},
     "nuid": "3f28cb2a-8d9e-41a0-958e-d12c3f1c90ba",
     "showTitle": false,
     "title": ""
    },
    "colab": {
     "base_uri": "https://localhost:8080/",
     "height": 817
    },
    "executionInfo": {
     "elapsed": 1425,
     "status": "ok",
     "timestamp": 1682514358005,
     "user": {
      "displayName": "Nicole Sullivan",
      "userId": "18031182080523530747"
     },
     "user_tz": 300
    },
    "id": "mXMQkhNDMrNW",
    "outputId": "292468a5-5dba-488d-f3a3-fc3da56be2ef"
   },
   "outputs": [],
   "source": [
    "%%R -i x_prime_np -i x_orig -h 800 -w 1200\n",
    "\n",
    "# Plot reconstructued vs. actual\n",
    "data.frame(actual = x_orig,\n",
    "           reconstructed = x_prime_np,\n",
    "           time = seq(1, length(x_orig))) %>%\n",
    "gather(actual, reconstructed, key = \"x\", value = \"val\") %>%\n",
    "ggplot(aes(time, val, color = x)) +\n",
    "geom_line(size = 1.3) +\n",
    "scale_color_manual(values = c(\"white\", purple_dark)) +\n",
    "labs(x = 'sequence',\n",
    "     y = 'output',\n",
    "     title = 'Autoencoder reconstruction') +\n",
    "theme_tech"
   ]
  },
  {
   "cell_type": "code",
   "execution_count": 0,
   "metadata": {
    "application/vnd.databricks.v1+cell": {
     "cellMetadata": {},
     "inputWidgets": {},
     "nuid": "916f1287-f1b7-4916-b6cc-c0348ddcc386",
     "showTitle": false,
     "title": ""
    },
    "colab": {
     "base_uri": "https://localhost:8080/",
     "height": 834
    },
    "executionInfo": {
     "elapsed": 555,
     "status": "ok",
     "timestamp": 1682514660358,
     "user": {
      "displayName": "Nicole Sullivan",
      "userId": "18031182080523530747"
     },
     "user_tz": 300
    },
    "id": "IQKDK5admtFI",
    "outputId": "8bd51cc5-f264-4153-e49d-84ce066642d2"
   },
   "outputs": [],
   "source": [
    "%%R -i x_prime_np -i x_orig -h 800 -w 1200\n",
    "\n",
    "# Plot reconstructued vs. actual\n",
    "ggplot() +\n",
    "aes(x_orig*2, x_prime_np) +\n",
    "geom_point(color = purple_dark, alpha = 0.7, size = 2.5) +\n",
    "geom_smooth(method = 'lm', color = \"white\", size = 2.2) +\n",
    "labs(y = \"x'\",\n",
    "     x = \"x\",\n",
    "     title = 'Reconstructed v. actual') +\n",
    "theme_tech"
   ]
  },
  {
   "cell_type": "code",
   "execution_count": 0,
   "metadata": {
    "application/vnd.databricks.v1+cell": {
     "cellMetadata": {},
     "inputWidgets": {},
     "nuid": "5b107f73-3e4b-40e4-a239-8c9e598020b5",
     "showTitle": false,
     "title": ""
    },
    "colab": {
     "base_uri": "https://localhost:8080/",
     "height": 834
    },
    "executionInfo": {
     "elapsed": 629,
     "status": "ok",
     "timestamp": 1682515343714,
     "user": {
      "displayName": "Nicole Sullivan",
      "userId": "18031182080523530747"
     },
     "user_tz": 300
    },
    "id": "SbXEF5mhuMhB",
    "outputId": "26967553-226f-4735-8815-280878ba888f"
   },
   "outputs": [],
   "source": [
    "%%R -h 800 -w 1200\n",
    "\n",
    "auto_mse <- (x_orig - x_prime_np/2)^2\n",
    "\n",
    "# Plot reconstructued vs. actual\n",
    "ggplot() +\n",
    "aes(auto_mse) +\n",
    "geom_histogram(fill = purple_dark) +\n",
    "labs(title = 'Reconstruction error',\n",
    "     x = 'MSE') +\n",
    "theme_tech"
   ]
  }
 ],
 "metadata": {
  "application/vnd.databricks.v1+notebook": {
   "dashboards": [],
   "language": "python",
   "notebookMetadata": {
    "pythonIndentUnit": 2
   },
   "notebookName": "02_autoencoder",
   "notebookOrigID": 3951232223931664,
   "widgets": {}
  },
  "colab": {
   "authorship_tag": "ABX9TyNu+zFLGmQQN7vyNgf0vhrY",
   "provenance": []
  },
  "kernelspec": {
   "display_name": "Python 3",
   "name": "python3"
  },
  "language_info": {
   "name": "python"
  }
 },
 "nbformat": 4,
 "nbformat_minor": 0
}
